{
 "cells": [
  {
   "cell_type": "markdown",
   "metadata": {
    "id": "6NQVCToZkRV8"
   },
   "source": [
    "# COMP0124 MAAI Individual Coursework 2024\n",
    "\n",
    "This course work has 5 questions with 50 marks,\n",
    "\n",
    "# Instructions\n",
    "1.   To start this notebook, please duplicate this notebook at first:\n",
    "  - Choose \"File => Save a copy in Drive\" and open/run it in Colab.\n",
    "  - Or you can download the notebook and run it in your local jupyter notebook server.\n",
    "2.   For the code-based problems, please create code shells after and write your code-based answers. For analysis and discussion or no-code answers, you are free to add extra text blocks as you need.\n",
    "3. If you have any questions, please contact TAs:  [Oliver Slumbers](o.slumbers@cs.ucl.ac.uk), [Xihan Li](xihan.li.20@ucl.ac.uk), [Xidong Feng](xidong.feng@cs.ucl.ac.uk), and [Mengyue Yang](m.yang@cs.ucl.ac.uk)."
   ]
  },
  {
   "cell_type": "markdown",
   "metadata": {
    "id": "Rawvkye94YHz"
   },
   "source": [
    "------------------------------------------------------------------------"
   ]
  },
  {
   "cell_type": "markdown",
   "metadata": {
    "id": "iHHIM0k60kI-"
   },
   "source": [
    "# Q1: Matrix Game (1)\n",
    "\n",
    "Player 1 and 2 each choose a positive integer up to K (include K). If the players choose the same number, then\n",
    "\n",
    "- player 2 pays **\\$2** to player 1 if both of them choose 1\n",
    "- player 2 pays **\\$1** to player 1 if both of them choose an integer larger than 1\n",
    "\n",
    "otherwise no payment is made. Each player's perferences are represented by her expected monetary payoff."
   ]
  },
  {
   "cell_type": "markdown",
   "metadata": {
    "id": "VoI9E9Bc4YHz"
   },
   "source": [
    "<div style='border: 1px solid; padding: 5px;'>\n",
    "    \n",
    "**(a)** When $K = 2$, write down the payoff matrix of the game, and steyp by step find any Nash equilibrum point. **[3 Marks]**\n",
    "\n",
    "</div>"
   ]
  },
  {
   "cell_type": "markdown",
   "metadata": {
    "id": "HnN-730D4YHz"
   },
   "source": [
    "Let player 1 and player 2 adopt the mixed strategies $(p, 1-p)$ and $(q, 1-q)$ respectively, where $p, q \\in [0, 1]$.\n",
    "\n",
    "Consider player 1's expected payoff,\n",
    "$$\n",
    "    (2)(q) = (1)(1-q) \\Rightarrow q = \\frac{1}{3} .\n",
    "$$\n",
    "Hence, when $q = 1/3$, $(p, 1-p)$ is player 1's best response.\n",
    "\n",
    "Consider player 2's expected payoff,\n",
    "$$\n",
    "    (-2)(p) = (-1)(1-p) \\Rightarrow p = \\frac{1}{3} .\n",
    "$$\n",
    "Hence, when $p = 1/3$, $(q, 1-q)$ is player 2's best response.\n",
    "\n",
    "Therfore, the only nash equilibrium for this game when $K = 2$ is $\\{(1/3, 2/3), (1/3, 2/3)\\}$."
   ]
  },
  {
   "cell_type": "markdown",
   "metadata": {
    "id": "iGwJ7aj94YHz"
   },
   "source": [
    "<div style='border: 1px solid; padding: 5px;'>\n",
    "\n",
    "**(b)** Write a code using [NashPy](https://nashpy.readthedocs.io/en/stable/) to validate your results. **[2 Marks]**\n",
    "\n",
    "</div>"
   ]
  },
  {
   "cell_type": "code",
   "execution_count": 1,
   "metadata": {
    "colab": {
     "base_uri": "https://localhost:8080/"
    },
    "execution": {
     "iopub.execute_input": "2024-03-04T17:43:51.151555Z",
     "iopub.status.busy": "2024-03-04T17:43:51.151386Z",
     "iopub.status.idle": "2024-03-04T17:43:51.157263Z",
     "shell.execute_reply": "2024-03-04T17:43:51.156982Z",
     "shell.execute_reply.started": "2024-03-04T17:43:51.151542Z"
    },
    "id": "mU6z7x-LXmrY",
    "outputId": "9ab483b4-0a5e-4bc7-be29-c28a9056d179"
   },
   "outputs": [
    {
     "name": "stdout",
     "output_type": "stream",
     "text": [
      "--------------------------------------------------\n",
      "Nash Equilibrium 1:\n",
      "--------------------------------------------------\n",
      "Player 1: (0.333, 0.667)\n",
      "Player 2: (0.333, 0.667)\n"
     ]
    }
   ],
   "source": [
    "import nashpy\n",
    "\n",
    "def print_ne(equilibria):\n",
    "    \"\"\"Print Nash Equilibria with formats.\"\"\"\n",
    "    for n, eq in enumerate(equilibria, 1):\n",
    "        print('-'*50 + f'\\nNash Equilibrium {n}:\\n' + '-'*50)\n",
    "        print(f'Player 1: ({\", \".join([f\"{x:.3f}\" for x in eq[0]])})')\n",
    "        print(f'Player 2: ({\", \".join([f\"{x:.3f}\" for x in eq[1]])})')\n",
    "\n",
    "A = [[2, 0], [0, 1]]\n",
    "B = [[-2, 0], [0, -1]]\n",
    "game = nashpy.Game(A, B)\n",
    "equilibria = game.support_enumeration()\n",
    "print_ne(equilibria)"
   ]
  },
  {
   "cell_type": "markdown",
   "metadata": {
    "id": "qvoMobGqXpbS"
   },
   "source": [
    "<div style='border: 1px solid; padding: 5px;'>\n",
    "\n",
    "**(c)** For any $K$, the game has a mixed strategy Nash equilibria. First write down the strategy, and then prove it is a Nash equilibria. **[3 Marks]**\n",
    "\n",
    "</div>"
   ]
  },
  {
   "cell_type": "markdown",
   "metadata": {
    "id": "gTdKXW9b4YH0"
   },
   "source": [
    "The mixed strategy Nash equilibrium:\n",
    "$$\n",
    "    \\left\\{ \\left( \\frac{1}{2K-1}, \\frac{2}{2K-1}, \\cdots, \\frac{2}{2K-1} \\right), \\left( \\frac{1}{2K-1}, \\frac{2}{2K-1}, \\cdots, \\frac{2}{2K-1} \\right) \\right\\}.\n",
    "$$\n",
    "\n",
    "With this strategy, player 1's expected payoff:\n",
    "\n",
    "- when choosing number 1: $2 \\cdot \\frac{1}{2K-1} + 0 + \\cdots + 0 = \\frac{2}{2K-1}$\n",
    "- when choosing number > 1: $0 + \\cdots + 0 + 1 \\cdot \\frac{2}{2K-1} + 0 + \\cdots + 0 = \\frac{2}{2K-1}$\n",
    "\n",
    "Hence, if player 2 plays with the strategy $\\left( \\frac{1}{2K-1}, \\frac{2}{2K-1}, \\cdots, \\frac{2}{2K-1} \\right)$, any mixed strategy would be player 1's best response.\n",
    "\n",
    "With this strategy, player 2's expected payoff:\n",
    "\n",
    "- when choosing number 1: $-2 \\cdot \\frac{1}{2K-1} + 0 + \\cdots + 0 = \\frac{-2}{2K-1}$\n",
    "- when choosing number > 1: $0 + \\cdots + 0 + (-1) \\cdot \\frac{2}{2K-1} + 0 + \\cdots + 0 = \\frac{-2}{2K-1}$\n",
    "\n",
    "Hence, if player 1 plays with the strategy $\\left( \\frac{1}{2K-1}, \\frac{2}{2K-1}, \\cdots, \\frac{2}{2K-1} \\right)$, any mixed strategy would be player 2's best response.\n",
    "\n",
    "Thus, we conclude that\n",
    "$$\n",
    "    \\left\\{ \\left( \\frac{1}{2K-1}, \\frac{2}{2K-1}, \\cdots, \\frac{2}{2K-1} \\right), \\left( \\frac{1}{2K-1}, \\frac{2}{2K-1}, \\cdots, \\frac{2}{2K-1} \\right) \\right\\}.\n",
    "$$\n",
    "is a mixed strategy Nash equilibrium for the game."
   ]
  },
  {
   "cell_type": "markdown",
   "metadata": {
    "id": "BpYNwoQW4YH0"
   },
   "source": [
    "<div style='border: 1px solid; padding: 5px;'>\n",
    "    \n",
    "**(d)** Show that the game has no other mixed strategy Nash equilibria. **[2 Marks]**\n",
    "\n",
    "</div>"
   ]
  },
  {
   "cell_type": "markdown",
   "metadata": {
    "id": "4QAYIU6K4YH0"
   },
   "source": [
    "Assume there exists another mixed strategey Nash equilibrium:\n",
    "$$\n",
    "    \\left\\{ \\left( A_1, A_2, \\cdots, A_K \\right), \\left( B_1, B_2, \\cdots, B_K \\right) \\right\\}\n",
    "$$\n",
    "which is different from that in part (c). Note that $A_1, A_2, \\cdots, A_K, B_1, B_2, \\cdots, B_K \\in [0, 1]$, $A_1 + A_2 + \\cdots + A_K = 1$ and $B_1 + B_2 + \\cdots + B_K = 1$.\n",
    "\n",
    "The expected payoff of player 1 and 2 is given by:\n",
    "$$\n",
    "    (2B_1, B_2, \\cdots, B_K)\n",
    "$$\n",
    "and\n",
    "$$\n",
    "    (-2A_1, -A_2, \\cdots, -A_K)\n",
    "$$\n",
    "respectively.\n",
    "\n",
    "For any $m \\in \\{1, \\cdots, K\\}$, if the probability of player 1 choosing $m$ is zero, i.e. $A_m = 0$, the best response of player 2 would be a pure strategy of choosing $m$, i.e. $B_m = 1$. In this case, the best response of player 1 is also a pure strategy of choosing $m$, i.e. $A_m = 1 \\neq 0$. Hence, Nash equilibrium cannot be obtained if $A_m = 0 : \\exists m \\in \\{1, \\cdots, K\\}$ and therefore $A_m \\in (0, 1) : \\forall m \\in \\{1, \\cdots, K\\}$ is necessary for a Nash equilibrium. Similary, $B_m \\in (0, 1) : \\forall m \\in \\{1, \\cdots, K\\}$ is necessary for a Nash equilibrium.\n",
    "\n",
    "So, the Nash equilibrium has to satisfy,\n",
    "$$\n",
    "\\begin{cases}\n",
    "    A_1, A_2, \\cdots, A_K < 1 \\\\\n",
    "    A_1, A_2, \\cdots, A_K > 0 \\\\\n",
    "    B_1, B_2, \\cdots, B_K < 1 \\\\\n",
    "    B_1, B_2, \\cdots, B_K > 0 \\\\\n",
    "    A_1 + A_2 + \\cdots + A_K = 1 \\\\\n",
    "    B_1 + B_2 + \\cdots + B_K = 1 \\\\\n",
    "    2A_1 = A_2 = \\cdots = A_K \\\\\n",
    "    2B_1 = B_2 = \\cdots = B_K \\\\\n",
    "\\end{cases}.\n",
    "$$\n",
    "\n",
    "Consider the last four constraints, we get the only solution to this system, which is the Nash equilibrium given in part (c). Thus, there is no other Nash equilibrium that is different from that in part (c).\n"
   ]
  },
  {
   "cell_type": "markdown",
   "metadata": {
    "id": "c3a7kP-aP0us"
   },
   "source": [
    "-------------------------------------------"
   ]
  },
  {
   "cell_type": "markdown",
   "metadata": {
    "id": "IMHdMpv32Y0B"
   },
   "source": [
    "# Q2: Matrix Game (2)\n",
    "\n",
    "Consider the matrix game given below\n",
    "\n",
    "|   | B    | S    | X    |\n",
    "|---|------|------|------|\n",
    "| B | 4, 2 | 0, 0 | 0, 1 |\n",
    "| S | 0, 0 | 2, 4 | 1, 3 |"
   ]
  },
  {
   "cell_type": "markdown",
   "metadata": {
    "id": "QJ72x9FR4YH0"
   },
   "source": [
    "<div style='border: 1px solid; padding: 5px;'>\n",
    "\n",
    "**(a)** Write down the two pure strategy Nash equilibria of the game. **[1 marks]**\n",
    "\n",
    "</div>"
   ]
  },
  {
   "cell_type": "markdown",
   "metadata": {
    "id": "rJvULpsJ4YH1"
   },
   "source": [
    "Pure strategy Nash equilibria:\n",
    "1. {B, B}\n",
    "2. {S, S}"
   ]
  },
  {
   "cell_type": "markdown",
   "metadata": {
    "id": "1NhymfBl4YH1"
   },
   "source": [
    "<div style='border: 1px solid; padding: 5px;'>\n",
    "\n",
    "**(b)** Use Python to draw the expected payoffs to player II (the column player) for all her strategies B, S and X, in terms of the probability $p$, say, that player I (the row player) plays strategy B. Indicate the best responses of player II, depending on that probability $p$. **[2 marks]**\n",
    "\n",
    "</div>"
   ]
  },
  {
   "cell_type": "code",
   "execution_count": 2,
   "metadata": {
    "colab": {
     "base_uri": "https://localhost:8080/",
     "height": 476
    },
    "execution": {
     "iopub.execute_input": "2024-03-04T17:43:51.158859Z",
     "iopub.status.busy": "2024-03-04T17:43:51.158710Z",
     "iopub.status.idle": "2024-03-04T17:43:51.632498Z",
     "shell.execute_reply": "2024-03-04T17:43:51.632162Z",
     "shell.execute_reply.started": "2024-03-04T17:43:51.158842Z"
    },
    "id": "flB79yrI4YH1",
    "outputId": "377b506d-f09d-4641-ee36-aeda97205c43"
   },
   "outputs": [
    {
     "data": {
      "image/png": "[encoded data removed]",
      "text/plain": [
       "<Figure size 640x480 with 1 Axes>"
      ]
     },
     "metadata": {},
     "output_type": "display_data"
    }
   ],
   "source": [
    "import numpy as np\n",
    "import matplotlib.pyplot as plt\n",
    "\n",
    "payoff_2 = np.array([\n",
    "    [2, 0, 1],\n",
    "    [0, 4, 3],\n",
    "])\n",
    "actions_2 = ['B', 'S', 'X']\n",
    "\n",
    "probs = np.linspace(0, 1, 100)\n",
    "expe_payoffs_2_eq = ['$2p$', '$4-4p$', '$3-2p$']\n",
    "expe_payoffs_2 = payoff_2.T @ np.stack([probs, 1-probs])\n",
    "best_response_2 = np.max(expe_payoffs_2, axis=0)\n",
    "plt.plot(probs, best_response_2, 'o', mec='gray', mew=1, mfc='none', ms=10, label='Best response')\n",
    "for i, action in enumerate(actions_2):\n",
    "    plt.plot(probs, expe_payoffs_2[i], lw=3, label=f'Action {action} -- {expe_payoffs_2_eq[i]}')\n",
    "plt.title('Expected payoffs for player 2')\n",
    "plt.xlabel('Player 1 probability of action B - $p$')\n",
    "plt.ylabel('Player 2 expected payoff')\n",
    "plt.legend();"
   ]
  },
  {
   "cell_type": "markdown",
   "metadata": {
    "id": "KrGOUqse4YH1"
   },
   "source": [
    "<div style='border: 1px solid; padding: 5px;'>\n",
    "    \n",
    "**(c)** Using the diagram in (b), find another mixed equilibria of the game. **[2 marks]**\n",
    "\n",
    "</div>"
   ]
  },
  {
   "cell_type": "markdown",
   "metadata": {
    "id": "d-Z1kuy14YH1"
   },
   "source": [
    "Each intersection of curves that **lies on the best response curve** corresponds to a possible mixed Nash equilibrium of the game.\n",
    "\n",
    "At $p = 1/2$ (intersection between green and red curves), player 2's best response is $(0, q, 1-q)$ where $q \\in [0, 1]$. The expected payoff of player 1 is therefore $(1-q, q+3)$. As $q+3 > 1-q$, player 1's best response is a pure strategy of choosing action S. So, no Nash equilibrium for $p = 1/2$.\n",
    "\n",
    "At $p = 3/4$ (intersection between red and orange curves), player 2's best response is $(q, 0, 1-q)$ where $q \\in [0, 1]$. The expected payoff of player 1 is therefore $(4q, 1-q)$. When $q = 1/5$, $(p, 1-p) : \\forall p \\in [0, 1]$ is player 1's best response. Hence,\n",
    "$$\n",
    "    \\left\\{ \\left(\\frac{3}{4}, \\frac{1}{4} \\right), \\left(\\frac{1}{5}, 0, \\frac{4}{5} \\right) \\right\\}\n",
    "$$\n",
    "is a mixed Nash equilibrium of the game."
   ]
  },
  {
   "cell_type": "markdown",
   "metadata": {
    "id": "Q__At-ia4YH1"
   },
   "source": [
    "<div style='border: 1px solid; padding: 5px;'>\n",
    "\n",
    "**(d)** Implement the support enumuration method to validate your result in (a) and (c). **[3 marks]**\n",
    "\n",
    "</div>"
   ]
  },
  {
   "cell_type": "code",
   "execution_count": 3,
   "metadata": {
    "execution": {
     "iopub.execute_input": "2024-03-04T17:43:51.633272Z",
     "iopub.status.busy": "2024-03-04T17:43:51.633098Z",
     "iopub.status.idle": "2024-03-04T17:43:51.638678Z",
     "shell.execute_reply": "2024-03-04T17:43:51.638377Z",
     "shell.execute_reply.started": "2024-03-04T17:43:51.633261Z"
    },
    "id": "g7A0vsAd4YH1"
   },
   "outputs": [],
   "source": [
    "### Support enumeration algorithm modified from the function provided in Lab 3.\n",
    "\n",
    "import itertools\n",
    "\n",
    "def support_enumeration(R, C):\n",
    "    \"\"\"Return the Nash equilibria of a non-degenerate 2-player game (R, C)\n",
    "    using the support enumeration algorithm.\n",
    "\n",
    "    Args:\n",
    "        R (ndarray): The payoff matrix for row player.\n",
    "        C (ndarray): The payoff matrix for column player.\n",
    "\n",
    "    Returns:\n",
    "        list: List of Nash equilibria. [(row player's mixed strategy,\n",
    "                                         column player's mixed strategy)]\n",
    "    \"\"\"\n",
    "    assert R.shape == C.shape\n",
    "    m, n = R.shape\n",
    "    ne = []\n",
    "    for k in range(1, min(m, n) + 1):\n",
    "        for I in itertools.combinations(range(m), k):\n",
    "            for J in itertools.combinations(range(n), k):\n",
    "                I, J = np.array(I), np.array(J)\n",
    "                r_subset, c_subset = R[np.ix_(I, J)], C[np.ix_(I, J)]\n",
    "                r_constraint = np.block([[c_subset.T, -np.ones((k, 1))],       # Expected payoff for row player\n",
    "                                        [np.ones((1, k)), np.zeros((1, 1))]])  # Probabilities sum to 1\n",
    "                c_constraint = np.block([[r_subset, -np.ones((k, 1))],         # Expected payoff for column player\n",
    "                                        [np.ones((1, k)), np.zeros((1, 1))]])  # Probabilities sum to 1\n",
    "                b = np.append(np.zeros(k), 1)\n",
    "                r_support_probs = np.linalg.solve(r_constraint, b)[:-1]\n",
    "                c_support_probs = np.linalg.solve(c_constraint, b)[:-1]\n",
    "                r_probs, c_probs =  np.zeros(m), np.zeros(n)\n",
    "                r_probs[I], c_probs[J] = r_support_probs, c_support_probs\n",
    "\n",
    "                # Probabilities must be non-negative\n",
    "                if np.all(r_probs >= 0) and np.all(c_probs >= 0):\n",
    "                    r_expected_payoff = c_probs @ R.T\n",
    "                    c_expected_payoff = r_probs @ C\n",
    "                    # Best response condition\n",
    "                    if np.isclose(r_expected_payoff[I[0]], r_expected_payoff.max()) and \\\n",
    "                    np.isclose(c_expected_payoff[J[0]], c_expected_payoff.max()):\n",
    "                        ne.append((r_probs, c_probs))\n",
    "    return ne"
   ]
  },
  {
   "cell_type": "code",
   "execution_count": 4,
   "metadata": {
    "colab": {
     "base_uri": "https://localhost:8080/"
    },
    "execution": {
     "iopub.execute_input": "2024-03-04T17:43:51.639369Z",
     "iopub.status.busy": "2024-03-04T17:43:51.639237Z",
     "iopub.status.idle": "2024-03-04T17:43:51.643810Z",
     "shell.execute_reply": "2024-03-04T17:43:51.643553Z",
     "shell.execute_reply.started": "2024-03-04T17:43:51.639359Z"
    },
    "id": "d9XVz9eR4YH1",
    "outputId": "53a37178-3c36-4555-bcf2-7c7c692a8acd"
   },
   "outputs": [
    {
     "name": "stdout",
     "output_type": "stream",
     "text": [
      "--------------------------------------------------\n",
      "Nash Equilibrium 1:\n",
      "--------------------------------------------------\n",
      "Player 1: (1.000, 0.000)\n",
      "Player 2: (1.000, 0.000, 0.000)\n",
      "--------------------------------------------------\n",
      "Nash Equilibrium 2:\n",
      "--------------------------------------------------\n",
      "Player 1: (0.000, 1.000)\n",
      "Player 2: (0.000, 1.000, 0.000)\n",
      "--------------------------------------------------\n",
      "Nash Equilibrium 3:\n",
      "--------------------------------------------------\n",
      "Player 1: (0.750, 0.250)\n",
      "Player 2: (0.200, 0.000, 0.800)\n"
     ]
    }
   ],
   "source": [
    "### Verify the answer in part 2(a) and 2(c)\n",
    "A = np.array([\n",
    "    [4, 0, 0],\n",
    "    [0, 2, 1],\n",
    "])\n",
    "B = np.array([\n",
    "    [2, 0, 1],\n",
    "    [0, 4, 3],\n",
    "])\n",
    "equilibria = support_enumeration(A, B)\n",
    "print_ne(equilibria)"
   ]
  },
  {
   "cell_type": "markdown",
   "metadata": {
    "id": "DcSdm4tu4YH1"
   },
   "source": [
    "Hence, results in parts (a) and (c) are valid."
   ]
  },
  {
   "cell_type": "markdown",
   "metadata": {
    "id": "XgXVD8zG4YH1"
   },
   "source": [
    "<div style='border: 1px solid; padding: 5px;'>\n",
    "\n",
    "**(e)** How can you improve the efficiency of the support enumeration method, by adopting the idea of the diagram in (b)? Briefly introduce the idea (no code needed). **[2 mark]**\n",
    "\n",
    "</div>"
   ]
  },
  {
   "cell_type": "markdown",
   "metadata": {
    "id": "OAt2p0zQ4YH1"
   },
   "source": [
    "In the support enumeration method, it searches from every possible combination of the players' strategies and tests if the combination can fulfill all constraints. Adopting the idea of the diagram in part (b), we can test for fewer points. Instead of testing every possible combinations of strategies, one can just tests those vertices that **lie on the best response curve**. For linear programming problems with more constraints, this method greatly reduces the computational complexity."
   ]
  },
  {
   "cell_type": "markdown",
   "metadata": {
    "id": "BP9Kg9_8rc-f"
   },
   "source": [
    "------------------------------------------------------------------------"
   ]
  },
  {
   "cell_type": "markdown",
   "metadata": {
    "id": "EBVEhCRBCDJ2"
   },
   "source": [
    "# Q3: Repeated Game\n",
    "\n",
    "Consider the following repeated game setting where the stage normal form game's payoff matrix is\n",
    "\n",
    "|   | C    | D    |\n",
    "|---|------|------|\n",
    "| C | 3, 3 | 0, 5 |\n",
    "| D | 5, 0 | 2, 2 |"
   ]
  },
  {
   "cell_type": "markdown",
   "metadata": {
    "id": "N76T82Bz4YH2"
   },
   "source": [
    "<div style='border: 1px solid; padding: 5px;'>\n",
    "\n",
    "**(a)** Recall the grim trigger, the limited punishment and the tit-for-tat policy mentioned in our lecture and practical session. By using the code from our practical seesion, please conduct pair-wise policy comparisons among these three policies as well as an all-defection policy (aka defect all the time). Show the comparison matrix (4\\*4). Set the limited punishment parameter k as 2, discount factor as 0.95, max_step as 100. **[2 Marks]**\n",
    "\n",
    "</div>"
   ]
  },
  {
   "cell_type": "code",
   "execution_count": 5,
   "metadata": {
    "colab": {
     "base_uri": "https://localhost:8080/"
    },
    "execution": {
     "iopub.execute_input": "2024-03-04T17:43:51.644569Z",
     "iopub.status.busy": "2024-03-04T17:43:51.644429Z",
     "iopub.status.idle": "2024-03-04T17:43:51.657259Z",
     "shell.execute_reply": "2024-03-04T17:43:51.656716Z",
     "shell.execute_reply.started": "2024-03-04T17:43:51.644556Z"
    },
    "id": "Pet0BURu4YH2",
    "outputId": "48944507-514c-440a-e6f0-92af727c5600"
   },
   "outputs": [
    {
     "name": "stdout",
     "output_type": "stream",
     "text": [
      "Return of the row player:\n",
      "                   GrimTrigger  LimitedPunish      TitForTat      AllDefect\n",
      "    GrimTrigger       59.64477       59.64477       59.64477       37.76318\n",
      "  LimitedPunish       59.64477       59.64477       59.64477       25.81532\n",
      "      TitForTat       59.64477       59.64477       59.64477       37.76318\n",
      "      AllDefect       42.76318       60.68497       42.76318       39.76318\n"
     ]
    }
   ],
   "source": [
    "### Agents' classes that are mostly modified from examples provided in Lab 2.\n",
    "### Actions of agents are indexed as 0 and 1, referring to 'C' and 'D' respectively.\n",
    "\n",
    "\n",
    "class RepeatedGame:\n",
    "\n",
    "    def __init__(self, payoff1, payoff2, max_step):\n",
    "        self.payoff1 = payoff1\n",
    "        self.payoff2 = payoff2\n",
    "        self.max_step = max_step\n",
    "        self.reset()\n",
    "\n",
    "    def reset(self):\n",
    "        self.curr_step = 0\n",
    "        self.history = {0: [], 1: []}\n",
    "        return self.history\n",
    "\n",
    "    def step(self, action1, action2):\n",
    "        reward1 = self.payoff1[action1, action2]\n",
    "        reward2 = self.payoff2[action1, action2]\n",
    "        self.history[0].append(action1)\n",
    "        self.history[1].append(action2)\n",
    "        self.curr_step += 1\n",
    "        done = False\n",
    "        if self.curr_step == self.max_step:\n",
    "            done = True\n",
    "        return reward1, reward2, self.history, done\n",
    "\n",
    "\n",
    "class BaseAgent:\n",
    "\n",
    "    def __init__(self, idx):\n",
    "        self.idx = idx  # Agent index\n",
    "\n",
    "\n",
    "class GrimTriggerAgent(BaseAgent):\n",
    "\n",
    "    def next_action(self, history):\n",
    "        opponent_actions = history[1 - self.idx]\n",
    "        if 1 in opponent_actions:\n",
    "            return 1  # Defect (punish)\n",
    "        else:\n",
    "            return 0  # Confess (cooperate)\n",
    "\n",
    "\n",
    "class TitForTatAgent(BaseAgent):\n",
    "\n",
    "    def next_action(self, history):\n",
    "        opponent_actions = history[1 - self.idx]\n",
    "        if opponent_actions:\n",
    "            return opponent_actions[-1]  # Imitate opponent's last action\n",
    "        else:\n",
    "            return 0  # Cooperte at the first step\n",
    "\n",
    "\n",
    "class LimitedPunishmentAgent(BaseAgent):\n",
    "\n",
    "    def __init__(self, idx, k=2):\n",
    "        super().__init__(idx)\n",
    "        self.k = k\n",
    "        self.punishment = 0\n",
    "\n",
    "    def next_action(self, history):\n",
    "        opponent_actions = history[1 - self.idx]\n",
    "        if opponent_actions:\n",
    "            # Still punishing\n",
    "            if self.punishment > 0:\n",
    "                self.punishment -= 1\n",
    "                if self.punishment == 0:\n",
    "                    # Cooperate after punishment\n",
    "                    return 0\n",
    "                else:\n",
    "                    return 1\n",
    "            # Check if opponent cooperated\n",
    "            if opponent_actions[-1] == 0:\n",
    "                return 0\n",
    "            else:\n",
    "                self.punishment = self.k\n",
    "                return 1\n",
    "        else:\n",
    "            # Cooperate at the first step\n",
    "            return 0\n",
    "\n",
    "\n",
    "class AllDefectAgent(BaseAgent):\n",
    "\n",
    "    def next_action(self, history):\n",
    "        return 1  # Defect\n",
    "\n",
    "\n",
    "def discount_return(reward_list, discount):\n",
    "    return_seq = np.ones(len(reward_list))\n",
    "    for i in range(1, len(reward_list)):\n",
    "        return_seq[i] = return_seq[i-1] * discount\n",
    "    return np.sum(np.array(reward_list) * return_seq)\n",
    "\n",
    "\n",
    "def simulate(env, agent0, agent1, discount):\n",
    "    history = env.reset()\n",
    "    done = False\n",
    "    reward_list_0, reward_list_1 = [], []\n",
    "    while not done:\n",
    "        action0 = agent0.next_action(history)\n",
    "        action1 = agent1.next_action(history)\n",
    "        reward0, reward1, history, done = env.step(action0, action1)\n",
    "        reward_list_0.append(reward0)\n",
    "        reward_list_1.append(reward1)\n",
    "    return0 = discount_return(reward_list_0, discount)\n",
    "    return1 = discount_return(reward_list_1, discount)\n",
    "    return return0, return1\n",
    "\n",
    "\n",
    "def print_comparison(agent_names, comparison_matrix):\n",
    "    max_name_len = max([len(name) for name in agent_names]) + 2\n",
    "    print('Return of the row player:')\n",
    "    print(' '.rjust(max_name_len) + ''.join([x.rjust(max_name_len) for x in agent_names]) + '')\n",
    "    for i, row in enumerate(comparison_matrix):\n",
    "        output = f'{agent_names[i]}'.rjust(max_name_len)\n",
    "        output += ''.join([f'{x:.5f}'.rjust(max_name_len) for x in row])\n",
    "        print(output)\n",
    "\n",
    "\n",
    "agents = [\n",
    "    ('GrimTrigger', GrimTriggerAgent),\n",
    "    ('LimitedPunish', LimitedPunishmentAgent),\n",
    "    ('TitForTat', TitForTatAgent),\n",
    "    ('AllDefect', AllDefectAgent),\n",
    "]\n",
    "agent_names = [name for name, _ in agents]\n",
    "\n",
    "# Game Settings\n",
    "payoff1 = np.array([[3, 0], [5, 2]])\n",
    "payoff2 = np.array([[3, 5], [0, 2]])\n",
    "discount = 0.95\n",
    "max_step = 100\n",
    "env = RepeatedGame(payoff1, payoff2, max_step)\n",
    "\n",
    "comparison_matrix = np.zeros((len(agents), len(agents)))\n",
    "for i, (_, agent0) in enumerate(agents):\n",
    "    for j, (_, agent1) in enumerate(agents):\n",
    "        return0, return1 = simulate(env, agent0(idx=0), agent1(idx=1), discount)\n",
    "        comparison_matrix[i, j] = return0\n",
    "\n",
    "print_comparison(agent_names, comparison_matrix)"
   ]
  },
  {
   "cell_type": "markdown",
   "metadata": {
    "id": "vHcVIyO4JFdq"
   },
   "source": [
    "<div style='border: 1px solid; padding: 5px;'>\n",
    "\n",
    "**(b)** Considering an agent with a mixed policy: the agent starts (step 1) with the grim trigger policy. After every 5 steps (step 6,11,16,etc) it will reset and choose to swtich its policy. For example, if its current policy is the grim trigger, it has probability of 1/4 for staying the same policy, 1/4 for choosing limited punishment policy, 1/4 for choosing the tit-for-tat policy, and 1/4 for choosing the defection policy. Find a strategy that can beat this mixed agent (the cumulative return is larger than the mixed agent). Please implement the above mixed agent, and implement your strategy (and also explain why) and conduct simulation comparison between your strategy and the mixed agent. Set discount factor as 0.9.  **[3 Marks]**\n",
    "\n",
    "**Note: When the agent is the under punishment situation, the agent can also switch its policy. For the limited punishment policy, once it is switched to another one, all punishment-relevant statistics need to be reset.**\n",
    "\n",
    "</div>"
   ]
  },
  {
   "cell_type": "markdown",
   "metadata": {
    "id": "8IKfyPeu4YH2"
   },
   "source": [
    "A very simple strategy to beat the mixed agent is **always defect**. Intuitively, since all potential stategy of the mixed strategy agent may choose **C**, the All-Defect agent would have chance to gain more payoff as it always choose **D**. When the mixed strategy agent choose **D**, both agents received the same payoff. Hence, the always defect strategy is at least as good as each potential strategy of the mixed agent.\n",
    "\n",
    "1. **All-Defect vs Grim Trigger**\n",
    "   \n",
    "    The Grim Trigger agent would choose **C** in the 1st round and choose **D** in remaining rounds to punish the All-Defect agent. The cumulative returns are\n",
    "\n",
    "   - All-Defect agent's return $= 5 + (0.9) \\cdot 2 + (0.9)^2 \\cdot 2 + (0.9)^3 \\cdot 2 + (0.9)^4 \\cdot 2 = 11.190$\n",
    "\n",
    "   - Grim Trigger agent's return $= 0 + (0.9) \\cdot 2 + (0.9)^2 \\cdot 2 + (0.9)^3 \\cdot 2 + (0.9)^4 \\cdot 2 = 6.190$\n",
    "\n",
    "2. **All-Defect vs Limited Punishment($k = 2$)**\n",
    "\n",
    "    The Limited Punishment agent would choose **C** in the 1st round and choose **D** in the 2nd and 3rd rounds to punish the All-Defect agent. Then, it would choose **C** in the 4th round and **D** in the 5th round to punish the All-Defect agent again. The cumulative returns are\n",
    "\n",
    "   - All-Defect agent's return $= 5 + (0.9) \\cdot 2 + (0.9)^2 \\cdot 2 + (0.9)^3 \\cdot 5 + (0.9)^4 \\cdot 2 = 13.378$\n",
    "\n",
    "   - Limited Punishment agent's return $= 0 + (0.9) \\cdot 2 + (0.9)^2 \\cdot 2 + (0.9)^3 \\cdot 0 + (0.9)^4 \\cdot 2 = 4.732$\n",
    "\n",
    "3. **All-Defect vs Tic-for-Tat**\n",
    "\n",
    "    The Tic-for-Tat agent would choose **C** in the 1st round and choose **D** in the remaining rounds to imitate the All-Defect agent. The cumulative returns are\n",
    "\n",
    "   - All-Defect agent's return $= 5 + (0.9) \\cdot 2 + (0.9)^2 \\cdot 2 + (0.9)^3 \\cdot 2 + (0.9)^4 \\cdot 2 = 11.190$\n",
    "\n",
    "   - Tic-for-Tat agent's return $= 0 + (0.9) \\cdot 2 + (0.9)^2 \\cdot 2 + (0.9)^3 \\cdot 2 + (0.9)^4 \\cdot 2 = 6.190$\n",
    "\n",
    "4. **All-Defect vs All-Defect**\n",
    "\n",
    "    Both agents always choose **D**. Hence, having the same return\n",
    "\n",
    "   - All-Defect agent's return $= 2 + (0.9) \\cdot 2 + (0.9)^2 \\cdot 2 + (0.9)^3 \\cdot 2 + (0.9)^4 \\cdot 2 = 8.190$\n",
    "\n",
    "Therefore, in all cases\n",
    "$$\n",
    "    \\text{All-Defect agent's return} \\geq \\text{Mixed agent's return}\n",
    "$$\n"
   ]
  },
  {
   "cell_type": "code",
   "execution_count": 6,
   "metadata": {
    "colab": {
     "base_uri": "https://localhost:8080/"
    },
    "execution": {
     "iopub.execute_input": "2024-03-04T17:43:51.658227Z",
     "iopub.status.busy": "2024-03-04T17:43:51.658117Z",
     "iopub.status.idle": "2024-03-04T17:43:51.884279Z",
     "shell.execute_reply": "2024-03-04T17:43:51.883925Z",
     "shell.execute_reply.started": "2024-03-04T17:43:51.658215Z"
    },
    "id": "JYOnBYip4YH2",
    "outputId": "420a4d5f-8499-4fcb-e8ce-2f651eaf2642"
   },
   "outputs": [
    {
     "name": "stdout",
     "output_type": "stream",
     "text": [
      "----------------------------------------------------------\n",
      "Average return of agents in a 100 steps game over 1000 run\n",
      "----------------------------------------------------------\n",
      "MixedAgent : 15.8398\n",
      "MyAgent    : 26.2390\n"
     ]
    }
   ],
   "source": [
    "class MixedAgent(BaseAgent):\n",
    "\n",
    "    def __init__(self, idx, change_steps=5):\n",
    "        super().__init__(idx)\n",
    "        self.change_steps = change_steps\n",
    "        self.agent_choices = [\n",
    "            GrimTriggerAgent,\n",
    "            TitForTatAgent,\n",
    "            LimitedPunishmentAgent,\n",
    "            AllDefectAgent\n",
    "        ]\n",
    "        self.reset()\n",
    "\n",
    "    def reset(self):\n",
    "        self.steps_remain = self.change_steps\n",
    "        # Start with the Grim Trigger Strategy\n",
    "        self.agent = GrimTriggerAgent(self.idx)\n",
    "        self.curr_agent = 0  # Index in self.agent_choices\n",
    "\n",
    "    def next_action(self, history):\n",
    "        # Can only see history in current agent's steps\n",
    "        history_size = self.change_steps - self.steps_remain\n",
    "        period_hist = {\n",
    "            0: [history[0][i] for i in range(-history_size, 0)],\n",
    "            1: [history[1][i] for i in range(-history_size, 0)],\n",
    "        }\n",
    "        # Re-sample an agent every 5 steps\n",
    "        if self.steps_remain > 0:\n",
    "            self.steps_remain -= 1\n",
    "            return self.agent.next_action(period_hist)\n",
    "        else:\n",
    "            self.steps_remain = self.change_steps\n",
    "            next_agent = np.random.randint(len(self.agent_choices))\n",
    "            self.agent = self.agent_choices[next_agent](self.idx)\n",
    "            self.curr_agent = next_agent\n",
    "            return self.agent.next_action(period_hist)\n",
    "\n",
    "\n",
    "class MyAgent(AllDefectAgent):\n",
    "    pass\n",
    "\n",
    "\n",
    "# Game Settings\n",
    "payoff1 = np.array([[3, 0], [5, 2]])\n",
    "payoff2 = np.array([[3, 5], [0, 2]])\n",
    "discount = 0.9\n",
    "max_step = 100\n",
    "env = RepeatedGame(payoff1, payoff2, max_step)\n",
    "\n",
    "total_return_0 = 0\n",
    "total_return_1 = 0\n",
    "\n",
    "runs = 1000\n",
    "for _ in range(runs):\n",
    "    agent0 = MixedAgent(idx=0)\n",
    "    agent1 = MyAgent(idx=1)\n",
    "    return0, return1 = simulate(env, agent0, agent1, discount)\n",
    "    total_return_0 += return0\n",
    "    total_return_1 += return1\n",
    "\n",
    "msg = f'Average return of agents in a {max_step} steps game over {runs} run'\n",
    "print('-' * len(msg) + '\\n' + msg + '\\n' + '-' * len(msg))\n",
    "print(f'MixedAgent : {total_return_0 / runs:.4f}')\n",
    "print(f'MyAgent    : {total_return_1 / runs:.4f}')"
   ]
  },
  {
   "cell_type": "markdown",
   "metadata": {
    "id": "aj_Y0tN5du9t"
   },
   "source": [
    "<div style='border: 1px solid; padding: 5px;'>\n",
    "    \n",
    "**(c)** You need to either find the best policy (optimal cumulative reward) or iteratively improve your implemented policy (increase cumulative reward) against the mixed agent mentioned in (b). The term 'iteratively' means you need to illustrate that your method can gradually refine its policy over time. Also, analyze how the peformance and comparison between these two policies change with different discount factor. **[5 Marks]**\n",
    "\n",
    "**Hints: This is an open question and you can design any algorithm that can solve it. We offer several possbilities here but you are not limited to these methods. You can try to parameterize your policy and use (1) Grid-Search over parameters (2) Evolutionary strategy similar to [Genetic_algorihtm](https://en.wikipedia.org/wiki/Genetic_algorithm) (3) Reinforcement Learning to optimize the parameterized policy. You can also try to derive the optimal policy analytically for this game and provide your discussion.**\n",
    "\n",
    "</div>"
   ]
  },
  {
   "cell_type": "markdown",
   "metadata": {
    "id": "Dsv0-LmK4YH3"
   },
   "source": [
    "**Simple Q Learning Agent**\n",
    "\n",
    "In this part, a very simple Q learning agent is created. The agent takes the past 5 moves of itself and the opponent as the state of the environment. It maintains a Q-table for storing the expected Q-value $Q$ of each $\\text{(state, action)}$ pair. The state space has a size of 1364 and the action space has only 2 actions.\n",
    "\n",
    "*$\\epsilon$-Greedy Policy*\n",
    "\n",
    "The agent uses the $\\epsilon$-greedy policy, where a exloration rate $\\epsilon$ decay across episodes according to the following update rule:\n",
    "$$\n",
    "    \\epsilon \\leftarrow \\epsilon_\\text{min} + (\\epsilon_\\text{max} - \\epsilon_\\text{min}) \\exp({-\\epsilon_\\text{decay} \\cdot n_\\text{episode}})\n",
    "$$\n",
    "where $\\epsilon_\\text{max}$ is the initial value of the exploration rate, $\\epsilon_\\text{min}$ is the minimum value of the exploration rate, $\\epsilon_\\text{decay}$ is the rate of decay and $n_\\text{epsisode}$ is the current number of episodes.\n",
    "\n",
    "*Off-policy TD Q-learning*\n",
    "\n",
    "The Q-table is updated after receiving every reward and the new state according to the following update rule:\n",
    "$$\n",
    "    Q(s, a) \\leftarrow Q(s, a) + \\alpha [r + \\gamma \\max_{a'} Q(s', a') - Q(s, a)]\n",
    "$$\n",
    "where $s$ is the original state, $s'$ is the new state, $a$ is the selected action, $r$ is the reward received, $\\alpha$ is the learning rate and $\\gamma$ is the discount on reward."
   ]
  },
  {
   "cell_type": "code",
   "execution_count": 7,
   "metadata": {
    "colab": {
     "base_uri": "https://localhost:8080/",
     "height": 630
    },
    "execution": {
     "iopub.execute_input": "2024-03-04T17:43:54.430304Z",
     "iopub.status.busy": "2024-03-04T17:43:54.430107Z",
     "iopub.status.idle": "2024-03-04T17:43:54.536029Z",
     "shell.execute_reply": "2024-03-04T17:43:54.535387Z",
     "shell.execute_reply.started": "2024-03-04T17:43:54.430290Z"
    },
    "id": "MlPgiqf_4YH3",
    "outputId": "6da0a8a9-13cb-4cdc-d2f0-59806ee995f9"
   },
   "outputs": [
    {
     "name": "stdout",
     "output_type": "stream",
     "text": [
      "Discount factor: 0.9\n",
      "\n",
      "Average return in last 1000 TRAINING episodes\n",
      "Mixed Agent: 20.2383\n",
      "QL Agent   : 28.4344\n",
      "QL win rate: 100.000%\n",
      "\n",
      "Average return in 1000 TESTING episodes\n",
      "Mixed Agent: 19.9435\n",
      "QL Agent   : 28.6809\n",
      "QL win rate: 100.000%\n"
     ]
    },
    {
     "data": {
      "image/png": "[encoded data removed]",
      "text/plain": [
       "<Figure size 640x480 with 1 Axes>"
      ]
     },
     "metadata": {},
     "output_type": "display_data"
    }
   ],
   "source": [
    "#----------------------------------------------------------------------\n",
    "# Simple Q-Learning\n",
    "#----------------------------------------------------------------------\n",
    "# Using the previous 5 actions of both players as the state. Actions\n",
    "# 'C' and 'D' are represented by 0 and 1 respectively. If current game\n",
    "# step is less than 5, there would be less then 5 previous actions, the\n",
    "# remaining actions is represented by 2. Hence, a state would look like\n",
    "# {'self': [2, 2, 0, 1, 1], 'opponent': [2, 2, 1, 0, 0]}, where the\n",
    "# actions are order by ascending time step.\n",
    "#\n",
    "# Size of state space = 1           [starting round of the game]\n",
    "#                       + (2^1)^2   [2nd round of the game]\n",
    "#                       + (2^2)^2   [3rd round of the game]\n",
    "#                       + (2^3)^2   [4th round of the game]\n",
    "#                       + (2^4)^2   [5th round of the game]\n",
    "#                       + (2^5)^2   [other rounds of the game]\n",
    "#                     = 1364\n",
    "#----------------------------------------------------------------------\n",
    "\n",
    "\n",
    "from collections import defaultdict\n",
    "\n",
    "\n",
    "class QLearningAgent:\n",
    "\n",
    "    def __init__(self, idx, discount=0.9):\n",
    "        self.idx = idx\n",
    "        self.actions = [0, 1]\n",
    "        self.lr = 0.1  # Learning rate\n",
    "        self.er_max = 1  # Max exploration rate\n",
    "        self.er_min = 0.01  # Min exploration rate\n",
    "        self.er_decay = 0.001  # Exponential decay rate\n",
    "        self.discount = discount  # Discount on future rewards\n",
    "        self.past_window = 5  # Number of past actions as state\n",
    "        self.reset()\n",
    "\n",
    "    def reset(self):\n",
    "        self.er = self.er_max  # Exploration rate\n",
    "        self.Q = defaultdict(lambda: np.zeros(2))  # {state: [action 0 q, action 1 q]}\n",
    "\n",
    "    def hist2state(self, hist):\n",
    "        \"\"\"Get the state from the history.\"\"\"\n",
    "        self_state = [2] * self.past_window\n",
    "        oppo_state = [2] * self.past_window\n",
    "        self_hist = hist[self.idx][-self.past_window:]\n",
    "        oppo_hist = hist[1 - self.idx][-self.past_window:]\n",
    "        # If the game has started\n",
    "        if len(self_hist):\n",
    "            self_state[-len(self_hist):] = self_hist\n",
    "            oppo_state[-len(oppo_hist):] = oppo_hist\n",
    "        state = tuple(self_state + oppo_state)\n",
    "        return state\n",
    "\n",
    "    def next_action(self, hist):\n",
    "        self.state = self.hist2state(hist)\n",
    "        er_thres = np.random.rand()\n",
    "        if er_thres > self.er:\n",
    "            # Exploitation\n",
    "            self.action = np.argmax(self.Q[self.state])\n",
    "        else:\n",
    "            # Exploration\n",
    "            self.action = np.random.choice(self.actions)\n",
    "        return self.action\n",
    "\n",
    "    def Q_update(self, new_hist, reward):\n",
    "        \"\"\"Off-policy TD Q Learning\"\"\"\n",
    "        new_state = self.hist2state(new_hist)\n",
    "        self.Q[self.state][self.action] = self.Q[self.state][self.action] * (1 - self.lr) \\\n",
    "            + self.lr * (reward + self.discount * self.Q[new_state].max())\n",
    "\n",
    "    def decay_er(self, episode):\n",
    "        \"\"\"Exponential decay the exploration rate after each episode.\"\"\"\n",
    "        self.er = self.er_min + (self.er_max - self.er_min) * np.exp(-self.er_decay * episode)\n",
    "\n",
    "\n",
    "def ql_train(env, ql_agent, mixed_agent, discount=0.9, n_episode=5000):\n",
    "    \"\"\"Training loop for the Q learning agent. \"\"\"\n",
    "    ql_agent.reset()\n",
    "    ql_returns = np.zeros(n_episode)\n",
    "    mixed_returns = np.zeros(n_episode)\n",
    "\n",
    "    for episode in range(n_episode):\n",
    "        mixed_agent.reset()\n",
    "        hist = env.reset()\n",
    "        done = False\n",
    "        ql_rewards, mixed_rewards = [], []\n",
    "\n",
    "        while not done:\n",
    "            ql_action = ql_agent.next_action(hist)\n",
    "            mixed_action = mixed_agent.next_action(hist)\n",
    "            ql_r, mixed_r, hist, done = env.step(ql_action, mixed_action)\n",
    "            ql_rewards.append(ql_r)\n",
    "            mixed_rewards.append(mixed_r)\n",
    "            ql_agent.Q_update(hist, ql_r)\n",
    "\n",
    "        ql_returns[episode] = discount_return(ql_rewards, discount)\n",
    "        mixed_returns[episode] = discount_return(mixed_rewards, discount)\n",
    "        ql_agent.decay_er(episode+1)\n",
    "\n",
    "    return ql_returns, mixed_returns\n",
    "\n",
    "\n",
    "# Game Settings\n",
    "payoff1 = np.array([[3, 0], [5, 2]])\n",
    "payoff2 = np.array([[3, 5], [0, 2]])\n",
    "discount = 0.9\n",
    "max_step = 100\n",
    "env = RepeatedGame(payoff1, payoff2, max_step)\n",
    "\n",
    "# Training\n",
    "n_episode = 5000\n",
    "ql_agent = QLearningAgent(idx=0, discount=discount)\n",
    "mixed_agent = MixedAgent(idx=1)\n",
    "ql_returns, mixed_returns = ql_train(env, ql_agent, mixed_agent, discount, n_episode)\n",
    "\n",
    "# Training Returns Plot\n",
    "plt.plot(np.arange(n_episode), ql_returns, label='QL Agent')\n",
    "plt.plot(np.arange(n_episode), mixed_returns, label='Mixed Agent')\n",
    "plt.xlabel('Episode')\n",
    "plt.ylabel('Return')\n",
    "plt.title(f'Returns of Both Agents in {n_episode} Training Episodes ($\\gamma$ = {discount})')\n",
    "plt.legend()\n",
    "\n",
    "# Result Statistics\n",
    "print(f'Discount factor: {discount}')\n",
    "print()\n",
    "print(f'Average return in last 1000 TRAINING episodes')\n",
    "print(f'Mixed Agent: {mixed_returns[-1000:].mean():.4f}')\n",
    "print(f'QL Agent   : {ql_returns[-1000:].mean():.4f}')\n",
    "print(f'QL win rate: {np.mean(ql_returns[-1000:] > mixed_returns[-1000:]):.3%}')\n",
    "print()\n",
    "\n",
    "# Testing\n",
    "runs = 1000\n",
    "ql_returns = np.zeros(1000)\n",
    "mixed_returns = np.zeros(1000)\n",
    "ql_agent.er = 0  # Always exploit\n",
    "\n",
    "for run in range(runs):\n",
    "    mixed_agent.reset()\n",
    "    return0, return1 = simulate(env, ql_agent, mixed_agent, discount)\n",
    "    ql_returns[run] = return0\n",
    "    mixed_returns[run] = return1\n",
    "\n",
    "print(f'Average return in 1000 TESTING episodes')\n",
    "print(f'Mixed Agent: {mixed_returns.mean():.4f}')\n",
    "print(f'QL Agent   : {ql_returns.mean():.4f}')\n",
    "print(f'QL win rate: {np.mean(ql_returns[-1000:] > mixed_returns[-1000:]):.3%}')"
   ]
  },
  {
   "cell_type": "code",
   "execution_count": 22,
   "metadata": {
    "colab": {
     "base_uri": "https://localhost:8080/",
     "height": 873
    },
    "execution": {
     "iopub.status.busy": "2024-03-04T17:43:54.536481Z",
     "iopub.status.idle": "2024-03-04T17:43:54.536629Z",
     "shell.execute_reply": "2024-03-04T17:43:54.536547Z",
     "shell.execute_reply.started": "2024-03-04T17:43:54.536541Z"
    },
    "id": "qMVnxQzD4YH3",
    "outputId": "1096947c-b77c-4af3-ffc2-e189a09bf2c3"
   },
   "outputs": [
    {
     "data": {
      "image/png": "[encoded data removed]",
      "text/plain": [
       "<Figure size 640x480 with 1 Axes>"
      ]
     },
     "metadata": {},
     "output_type": "display_data"
    }
   ],
   "source": [
    "### Varies the Discount Factor of the Q-learning Agent\n",
    "\n",
    "discounts = np.linspace(0, 0.9, 10)\n",
    "\n",
    "# Game Settings\n",
    "payoff1 = np.array([[3, 0], [5, 2]])\n",
    "payoff2 = np.array([[3, 5], [0, 2]])\n",
    "max_step = 100\n",
    "env = RepeatedGame(payoff1, payoff2, max_step)\n",
    "\n",
    "n_episode = 3000\n",
    "ql_agent = QLearningAgent(idx=0, discount=0.9)\n",
    "mixed_agent = MixedAgent(idx=1)\n",
    "\n",
    "ql_avg_rewards = []\n",
    "mixed_avg_rewards = []\n",
    "\n",
    "for n, discount in enumerate(discounts):\n",
    "    # Training\n",
    "    ql_returns, mixed_returns = ql_train(env, ql_agent, mixed_agent, discount, n_episode)\n",
    "    # Average reward plot data\n",
    "    ql_avg_rewards.append(ql_returns.mean())\n",
    "    mixed_avg_rewards.append(mixed_returns.mean())\n",
    "\n",
    "plt.plot(discounts, ql_avg_rewards, label='QL Agent')\n",
    "plt.plot(discounts, mixed_avg_rewards, label='Mixed Agent')\n",
    "plt.xlabel('Discount Factor')\n",
    "plt.ylabel('Average Reward');\n",
    "plt.title(f'Average Reward of Both Agents in {n_episode} Training Episodes')\n",
    "plt.legend();"
   ]
  },
  {
   "cell_type": "markdown",
   "metadata": {
    "id": "HfcaO8vMrig2"
   },
   "source": [
    "--------------------------------------------------------------------------------"
   ]
  },
  {
   "cell_type": "markdown",
   "metadata": {
    "id": "LkoRJlz_NOwA"
   },
   "source": [
    "# Q4 Congestion Games\n",
    "Consider the following congestion network with origin and destination\n",
    "nodes 𝑜 and 𝑑, and an intermediate node 𝑣. There are ten individual users\n",
    "who want to travel from 𝑜 to 𝑑. x, y, z, and y-z are the users in their respective paths.\n",
    "\n",
    "![image.png](data:image/png;base64,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)\n",
    "\n",
    "As shown, the cost on the bottom edge is 𝑐(𝑥) = 𝑥 + 2 when it has 𝑥 users, where 𝑥 + 𝑦 = 10. The edge from 𝑜 to 𝑣 has cost function 𝑐(𝑦) = 𝑦. The top edge from 𝑣 to 𝑑 has constant cost 3, and the lower edge from 𝑣 to 𝑑 has cost function 𝑐(𝑧) = 𝑧 if 𝑧 of the 𝑦 users use that edge, where 0 ≤ 𝑧 ≤ 𝑦."
   ]
  },
  {
   "cell_type": "markdown",
   "metadata": {
    "id": "xE3GEwtc4YH4"
   },
   "source": [
    "<div style='border: 1px solid; padding: 5px;'>\n",
    "    \n",
    "**(a)** Find all equilibria of this congestion game (note that 𝑥, 𝑦 and 𝑧 are integers), and their resulting average cost per user. **[5 Marks]**\n",
    "\n",
    "</div>"
   ]
  },
  {
   "cell_type": "markdown",
   "metadata": {
    "id": "gwr5mFz04YH4"
   },
   "source": [
    "Constraint for the equilibria in this congestion game:\n",
    "\n",
    "- (1) Integer users:\n",
    "  $$x, y \\in \\mathbb{Z}^+$$\n",
    "\n",
    "- (2) Total users:\n",
    "  $$x + y = 10$$\n",
    "\n",
    "- (3) Cost after changing paths at equilibrium is **not lower** (Therefore, no intention for any user to switch between the two edges from $o$ or the two edges from $v$.)\n",
    "  - (3.1) Switching between the two edges from $o$\n",
    "    $$\n",
    "    \\begin{cases}\n",
    "        x + 2 \\leq (y + 1) + \\min(z', 3) & \\text{(one moving from bottom edge to top edge} \\\\\n",
    "        (x + 1) + 2 \\geq y + \\min(z, 3) & \\text{(one moving from top edge to bottom edge}\n",
    "    \\end{cases}\n",
    "    $$\n",
    "   where $z'$ is the number of users in the lower edge from $v$ to $d$ after one moving from bottom to top.\n",
    "\n",
    "  - (3.2) Switching between the two edges from $v$\n",
    "    $$\n",
    "    \\begin{cases}\n",
    "        y + z \\leq y + 3 & \\text{(one moving from bottom edge to top edge} \\\\\n",
    "        y + 3 \\leq y + (z + 1) & \\text{(one moving from top edge to bottom edge}\n",
    "    \\end{cases}\n",
    "    $$\n",
    "\n",
    "Constraint (3.1) can be broken down by the value of $y$ as:\n",
    "\n",
    "  - For $0 \\leq y < 2$,\n",
    "$$\n",
    "    z, z' \\leq 3\n",
    "    \\Rightarrow\n",
    "    \\begin{cases}\n",
    "        z' = y + 1 \\\\\n",
    "        z = y\n",
    "    \\end{cases}\n",
    "    \\Rightarrow\n",
    "    \\begin{cases}\n",
    "        x \\leq 2y \\\\\n",
    "        x \\geq 2y - 3\n",
    "    \\end{cases} .\n",
    "$$\n",
    "    Combining with constraint (2), we obtain\n",
    "$$\n",
    "    \\begin{cases}\n",
    "        10 - y \\leq 2y \\\\\n",
    "        10 - y \\geq 2y - 3\n",
    "    \\end{cases}\n",
    "    \\Rightarrow\n",
    "    3.33 \\leq y \\leq 4.33 \\quad,\n",
    "$$\n",
    "    which **contradicts** with $0 \\leq y < 2$.\n",
    "\n",
    "  - For $2 \\leq y < 3$,\n",
    "$$\n",
    "    \\begin{cases}\n",
    "        z' = 3 \\\\\n",
    "        z  = y\n",
    "    \\end{cases}\n",
    "    \\Rightarrow\n",
    "    \\begin{cases}\n",
    "        x \\leq y + 2 \\\\\n",
    "        x \\geq 2y - 3\n",
    "    \\end{cases} .\n",
    "$$\n",
    "Combining with constraint (2), we obtain\n",
    "$$\n",
    "    \\begin{cases}\n",
    "        10 - y \\leq y + 2 \\\\\n",
    "        10 - y \\geq 2y - 3\n",
    "    \\end{cases}\n",
    "    \\Rightarrow\n",
    "    4 \\leq y \\leq 4.33 \\quad ,\n",
    "$$\n",
    "which **contradicts** with $2 \\leq y < 3$.\n",
    "\n",
    "  - For $3 \\leq y \\leq 10$,\n",
    "$$\n",
    "    \\begin{cases}\n",
    "        z' = 3 \\\\\n",
    "        z  = 3\n",
    "    \\end{cases}\n",
    "    \\Rightarrow\n",
    "    \\begin{cases}\n",
    "        x \\leq y + 2 \\\\\n",
    "        x \\geq y\n",
    "    \\end{cases} .\n",
    "$$\n",
    "Combining with constraint (2), we obtain\n",
    "$$\n",
    "    \\begin{cases}\n",
    "        10 - y \\leq y + 2 \\\\\n",
    "        10 - y \\geq y\n",
    "    \\end{cases}\n",
    "    \\Rightarrow\n",
    "    4 \\leq y \\leq 5 \\quad .\n",
    "$$\n",
    "As $y$ is an integer, it can only be $4$ or $5$.\n",
    "\n",
    "Constraint (3.2) can be reduced as:\n",
    "$$\n",
    "    \\begin{cases}\n",
    "        y + z \\leq y + 3 \\\\\n",
    "        y + 3 \\leq y + (z + 1)\n",
    "    \\end{cases}\n",
    "    \\Rightarrow\n",
    "    \\begin{cases}\n",
    "        z \\leq 3 \\\\\n",
    "        3 \\leq z + 1\n",
    "    \\end{cases}\n",
    "    \\Rightarrow\n",
    "    2 \\leq z \\leq 3\n",
    "$$\n",
    "As $z$ is an integer, it can only be $2$ or $3$.\n",
    "\n",
    "Hence, there are 4 equilibria:\n",
    "\n",
    "1. $(x, y, z) = (6, 4, 2)$\n",
    "   $$\n",
    "        \\text{Resulting average cost per user } = \\frac{6(6+2) + 2(4+3) + 2(4+2)}{10} = 7.4\n",
    "   $$\n",
    "\n",
    "2. $(x, y, z) = (6, 4, 3)$\n",
    "   $$\n",
    "        \\text{Resulting average cost per user } = \\frac{6(6+2) + 4(4+3)}{10} = 7.6\n",
    "   $$\n",
    "    \n",
    "3. $(x, y, z) = (5, 5, 2)$\n",
    "   $$\n",
    "        \\text{Resulting average cost per user } = \\frac{5(5+2) + 3(5+3) + 2(5+2)}{10} = 7.3\n",
    "   $$\n",
    "\n",
    "4. $(x, y, z) = (5, 5, 3)$\n",
    "   $$\n",
    "        \\text{Resulting average cost per user } = \\frac{5(5+2) + 5(5+3)}{10} = 7.5\n",
    "   $$"
   ]
  },
  {
   "cell_type": "markdown",
   "metadata": {
    "id": "DLHGE7Fu4YH5"
   },
   "source": [
    "<div style='border: 1px solid; padding: 5px;'>\n",
    "    \n",
    "**(b)** For the same network, find the equilibrium when 𝑥, 𝑦, 𝑧 can be fractional for a total flow of 10 from 𝑜 to 𝑑 (so this flow is now splittable). Compare its average cost with the costs of the equilibria in (a). **[5 Marks]**\n",
    "\n",
    "</div>"
   ]
  },
  {
   "cell_type": "markdown",
   "metadata": {
    "id": "7Rd6rhHA4YH5"
   },
   "source": [
    "If $x$, $y$ and $z$ can be fractional, we have the constraint (3) rewritten as\n",
    "$$\n",
    "    \\begin{cases}\n",
    "        x + 2 \\leq (y + k) + \\min(z', 3) & (k \\text{ moving from bottom to top)} \\\\\n",
    "        (x + k') + 2 \\geq y + \\min(z, 3) & (k' \\text{ moving from top to bottom)}\n",
    "    \\end{cases}\n",
    "$$\n",
    "where $0 < k \\leq x$ and $0 < k' \\leq y$. These lower bound on $k$ and $k'$ suggest that the equalities are essential for any equlibrium. Hence, the constraint reduces to\n",
    "$$\n",
    "    x + 2 = y + \\min(z, 3)\n",
    "$$\n",
    "\n",
    "It can be broken down by the value of $y$ as:\n",
    "\n",
    "  - For $0 \\leq y < 3$,\n",
    "$$\n",
    "    z = y\n",
    "    \\Rightarrow\n",
    "    x = 2y - 2\n",
    "$$\n",
    "Combining with constraint (2), we obtain\n",
    "$$\n",
    "    10 - y = 2y - 2\n",
    "    \\Rightarrow\n",
    "    y = 4\n",
    "    \\quad ,\n",
    "$$\n",
    "which **contradicts** with $0 \\leq y < 3$.\n",
    "\n",
    "  - For $3 \\leq y \\leq 10$,\n",
    "$$\n",
    "    z = 3\n",
    "    \\Rightarrow\n",
    "    x = y + 1\n",
    "$$\n",
    "Combining with constraint (2), we obtain\n",
    "$$\n",
    "    10 - y = y + 1\n",
    "    \\Rightarrow\n",
    "    y = 4.5\n",
    "    \\quad .\n",
    "$$\n",
    "    \n",
    "Therefore, the equilibrium would be\n",
    "$$\n",
    "    (x, y, z) = (5.5, 4.5, 3)\n",
    "$$\n",
    "with\n",
    "$$\n",
    "    \\text{Resulting average cost per user } = \\frac{5.5(5.5+2) + 4.5(4.5+3)}{10} = 7.5 \\quad .\n",
    "$$\n",
    "\n",
    "The average cost per user is the higher that 2 other equilibria in part (a). It shows a situation that when every user pays the same cost, the entire society indeed spends more than the case when some users bare more cost."
   ]
  },
  {
   "cell_type": "markdown",
   "metadata": {
    "id": "kjv7Hfw7rnSu"
   },
   "source": [
    "-----------------------------------------"
   ]
  },
  {
   "cell_type": "markdown",
   "metadata": {
    "id": "PDqJddF1pJEE"
   },
   "source": [
    "# Q5 Bertrand model of oligopoly\n",
    "\n",
    "The Bertrand model of oligopoly models a market situation in which firms (agents) compete solely on price. It assumes that each firm is a price-taker and that the market price is determined by the lowest price offered by any of the firms. The Bertrand model of oligopoly is a game of sequential moves, in which firms (agents) choose their prices first, and then the consumers choose the firm they want to buy from.\n",
    "\n",
    "For example, consider a market with two firms (agents) selling a **homogeneous good**. Both firms have the same cost structure, and both can produce any quantity at the same cost. In this case, the market price is determined by the lowest price offered by either firm. **If one firm offers a lower price, it will capture all the market *demand*, and the other firm will not sell any units.** The game is played as follows:\n",
    "\n",
    "1. Both firms simultaneously choose a price.\n",
    "2. Given the prices, each firm's profit is calculated based on the market share it captures.\n",
    "3. The firms revise their prices based on the profits they received\n",
    "4. The process 1-3 repeat until it convergences to a Nash equilibrium.\n"
   ]
  },
  {
   "cell_type": "markdown",
   "metadata": {
    "id": "Pbk0IBYwqC0K"
   },
   "source": [
    "<div style='border: 1px solid; padding: 5px;'>\n",
    "\n",
    "**(a)** We consider the following parameter setting for a two firms case, then we have the following notations:\n",
    "\n",
    "* Players: Two firms $i=1,2$ with constant marginal cost $c\\geq0$\n",
    "* Strategic Variables: Firm’s select the price level $p_1, p_2 \\geq 0$;\n",
    "* Market Demand $d(p_i)$, which is determined by the price.\n",
    "\n",
    "We can derive the demand function $D_{1}$ for Firm 1 given the price $p_1, p_2$ as:\n",
    "\n",
    "$$\n",
    "D_{1}\\left(p_1, p_2\\right)= \\begin{cases}d\\left(p_1\\right), & \\text { if } p_1<p_2 \\\\ \\frac{d\\left(p_1\\right)}{2}, & \\text { if } p_1=p_2 \\\\ 0, & \\text { otherwise }\\end{cases}\n",
    "$$\n",
    "\n",
    "Also the demand function $D_{2}$ for Firm 2 given the price $p_1, p_2$ as:\n",
    "\n",
    "$$\n",
    "D_{2}\\left(p_1, p_2\\right)= \\begin{cases}d\\left(p_2\\right), & \\text { if } p_2<p_1 \\\\ \\frac{d\\left(p_2\\right)}{2}, & \\text { if } p_2=p_1 \\\\ 0, & \\text { otherwise }\\end{cases}\n",
    "$$\n",
    "\n",
    "The reward function for both company can be calculated by:\n",
    "$$\n",
    "R_{i}= D_{i}(p_i - c)\n",
    "$$\n",
    "\n",
    "Assume that\n",
    "$$\n",
    "d(p_i)= \\begin{cases}5-p_i, & \\text { if } p_i<5 \\\\ 0, & \\text { if } p_i\\geq 5 \\\\\\end{cases}\n",
    "$$\n",
    "and $c_1=c_2=1.0$. Given these parameters, you need to derive the best response price $p_1$ for firm 1 given the price $p_2$ analytically. The price value can only have one decimal place, such as 4.3, 4.4, and 4.5.  **[2 marks]**\n",
    "\n",
    "</div>"
   ]
  },
  {
   "cell_type": "markdown",
   "metadata": {
    "id": "58bpUe524YH5"
   },
   "source": [
    "Given the parameters, we can construct the reward of firm 1 as\n",
    "$$\n",
    "\t\\begin{align*}\n",
    "\t\tR_1 & =\n",
    "\t\t\\begin{cases}\n",
    "\t\t\t(5 - p_1)(p_1 - 1) & \\text{if } p_1 < 5 \\text{ and } p_1 < p_2 \\\\\n",
    "\t\t\t0.5(5 - p_1)(p_1 - 1) & \\text{if } p_1 < 5 \\text{ and } p_1 = p_2 \\\\\n",
    "\t\t\t0 & \\text{otherwise}\n",
    "\t\t\\end{cases} \\\\\n",
    "\t\t& =\n",
    "\t\t\\begin{cases}\n",
    "\t\t\t- p_1^2 + 6 p_1 - 5  & \\text{if } p_1 < 5 \\text{ and } p_1 < p_2 \\\\\n",
    "\t\t\t- 0.5p_1^2 + 3 p_1 - 2.5 & \\text{if } p_1 < 5 \\text{ and } p_1 = p_2 \\\\\n",
    "\t\t\t0 & \\text{otherwise}\n",
    "\t\t\\end{cases}\n",
    "\t\\end{align*}\n",
    "$$\n",
    "For any non-negative reward, it is trivial that $p_1 \\geq 1$, i.e. not less than the marginal cost. So, to not incurring any loss, $p_1$ should be set higher than $p_2$ when $p_2 < 1$. For $0 \\leq q_2 < 1$, $p_1 \\in (p_2, \\infty)$ is a best response and have a reward of 0.\n",
    "\n",
    "For the marginal case of $p_2 = 1$, the best reward of firm 1 is 0 $\\forall p_1 \\in [1, \\infty)$.\n",
    "\n",
    "To compute the best response of firm 1 for $p_2 > 1$, we first compute the derivative of $R_1$:\n",
    "$$\n",
    "\tR_1' =\n",
    "\t\\begin{cases}\n",
    "\t\t6 - 2 p_1 & \\text{if } p_1 < 5 \\text{ and } p_1 < p_2 \\\\\n",
    "\t\t3 - p_1 & \\text{if } p_1 < 5 \\text{ and } p_1 = p_2 \\\\\n",
    "\t\t0 & \\text{otherwise}\n",
    "\t\\end{cases}\n",
    "$$\n",
    "It is noticed that $p_1 = 3$ gives the optimal rewards in each of the first two cases. Hence, for $p_2 > 3$, firm 1 should set $p_1 = 3$ to capture the whole market and get the optimal rewards.\n",
    "\n",
    "Next, we have to determine the best response of firm 1 for $p_2 \\leq 3$. With the derivative, it is also observed that the reward decreases as $p_1$ decreases from 3 to 1 in the first two cases. We have to analyse the trade off between the gain in market share and loss in marginal profit when setting $p_1 < p_2$.\n",
    "\n",
    "As the price can only have one decimal place, we would compare the strategy $p_1 = p_2 - 0.1$ and $p_1 = p_2$.\n",
    "$$\n",
    "\\begin{align*}\n",
    "\t\\text{reward}(p_1=p_2-0.1) & \\geq \\text{reward}(p_1=p_2) \\\\\n",
    "\t- (p_2-0.1)^2 + 6 (p_2-0.1) - 5 & \\geq- 0.5p_2^2 + 3 p_2 - 2.5 \\\\\n",
    "\t\\frac{32-\\sqrt{402}}{10} \\leq & \\space p_2 \\leq \\frac{32+\\sqrt{402}}{10} \\\\\n",
    "\t1.19501 \\leq & \\space p_2 \\leq 5.20499 \\\\\n",
    "\\end{align*}\n",
    "$$\n",
    "Therefore, for $1.19501 \\leq p_2 < 3$, setting $p_1 = p_2 - 0.1$ has higher reward. Again, as the price can only have one decimal place, the lower bound of the range on $p_2$ should be corrected as 1.2.\n",
    "\n",
    "To conclude, the best response price $p_1$ of firm 1 given the price $p_2$ is\n",
    "$$\n",
    "\tp_1^* =\n",
    "\t\\begin{cases}\n",
    "\t\t\\text{any value within } (p_2, \\infty) & \\text{if } 0 \\leq p_2 < 1 \\\\\t\t    \\text{any value within } [1, \\infty) & \\text{if } p_2 = 1 \\\\\n",
    "\t\tp_2 & \\text{if } 1 < p_2 \\leq 1.1 \\\\\n",
    "\t\tp_2 - 0.1 & \\text{if } 1.2 \\leq p_2 \\leq 3 \\\\\n",
    "\t\t3 & \\text{if } p_2 > 3\n",
    "\t\\end{cases}\n",
    "\t\\quad .\n",
    "$$"
   ]
  },
  {
   "cell_type": "code",
   "execution_count": 9,
   "metadata": {
    "colab": {
     "base_uri": "https://localhost:8080/",
     "height": 467
    },
    "execution": {
     "iopub.status.busy": "2024-03-04T17:43:54.537232Z",
     "iopub.status.idle": "2024-03-04T17:43:54.537459Z",
     "shell.execute_reply": "2024-03-04T17:43:54.537385Z",
     "shell.execute_reply.started": "2024-03-04T17:43:54.537378Z"
    },
    "id": "9eF1OKt_4YH5",
    "outputId": "9de1632d-5b6c-4150-c969-94101959027e"
   },
   "outputs": [
    {
     "data": {
      "text/plain": [
       "<matplotlib.legend.Legend at 0x16dc81d90>"
      ]
     },
     "execution_count": 9,
     "metadata": {},
     "output_type": "execute_result"
    },
    {
     "data": {
      "image/png": "[encoded data removed]",
      "text/plain": [
       "<Figure size 640x480 with 1 Axes>"
      ]
     },
     "metadata": {},
     "output_type": "display_data"
    }
   ],
   "source": [
    "### Verify the solution\n",
    "p1 = np.arange(0, 5.1, 0.1)\n",
    "p2 = np.arange(0, 5.1, 0.1)\n",
    "\n",
    "p1_stack = np.stack([p1]*len(p2))\n",
    "d1 = np.clip(5 - p1_stack, a_min=0, a_max=None)\n",
    "D1 = d1.copy()\n",
    "\n",
    "# Case when p1 = p2\n",
    "idx = p1_stack == p2.reshape(-1, 1)\n",
    "D1[idx] =  D1[idx] * 0.5\n",
    "\n",
    "# Case when p1 > p2\n",
    "idx = p1_stack > p2.reshape(-1, 1)\n",
    "D1[idx] =  0\n",
    "\n",
    "R1 = D1 * (p1_stack - 1)\n",
    "best_response_1 = np.argmax(R1, axis=1)\n",
    "\n",
    "plt.grid(True)\n",
    "plt.scatter(p2, p1[best_response_1], s=10, c='b', marker='x', label=\"Firm 1's best response\")\n",
    "plt.scatter(p2, p2, s=5, c='r', label='$p_2$')\n",
    "plt.xlabel('$p_2$')\n",
    "plt.legend()"
   ]
  },
  {
   "cell_type": "markdown",
   "metadata": {
    "id": "z8A6xAg-4YH5"
   },
   "source": [
    "The result aligns with the analytic solution."
   ]
  },
  {
   "cell_type": "markdown",
   "metadata": {
    "id": "6ETbD48T4YH5"
   },
   "source": [
    "<div style='border: 1px solid; padding: 5px;'>\n",
    "\n",
    "**(b)** Based on the best-repsonse function derived in 5.a, use Python to implement the following learning method to reach the Nash equilibria and compare the results:\n",
    "\n",
    "* Iterative best response: start with a random joint price, and at each time step, only one agent takes the best response price against the opponent's previous price. Agents then take prices iteratively until convergence. The price value can only have one decimal place, such as 4.3, 4.4, and 4.5. You need to output the price adjustment process, the final converged action, and the final reward. (Run multiple times to try different price initialisations, which can help you check the implementation). **[4 marks]**\n",
    "\n",
    "</div>"
   ]
  },
  {
   "cell_type": "code",
   "execution_count": 38,
   "metadata": {
    "colab": {
     "base_uri": "https://localhost:8080/"
    },
    "execution": {
     "iopub.status.busy": "2024-03-04T17:43:54.538003Z",
     "iopub.status.idle": "2024-03-04T17:43:54.538124Z",
     "shell.execute_reply": "2024-03-04T17:43:54.538062Z",
     "shell.execute_reply.started": "2024-03-04T17:43:54.538056Z"
    },
    "id": "EIf5pRIP4YH5",
    "outputId": "321cd59a-31d8-4ee1-94cd-a756d4533cfc"
   },
   "outputs": [],
   "source": [
    "def best_response(p):\n",
    "    if p > 3:\n",
    "        best = 3\n",
    "    elif 1.1 < p <= 3:\n",
    "        best = p - 0.1\n",
    "    elif 1 < p <= 1.1:\n",
    "        best = p\n",
    "    elif p <= 1:\n",
    "        best = 1\n",
    "    return best\n",
    "\n",
    "\n",
    "def reward(p1, p2, c1=1.0):\n",
    "    if p1 < 5:\n",
    "        d1 = 5 - p1\n",
    "    else:\n",
    "        d1 = 0\n",
    "    if p1 < p2:\n",
    "        D1 = d1\n",
    "    elif p1 == p2:\n",
    "        D1 = d1 * 0.5\n",
    "    else:\n",
    "        D1 = 0\n",
    "    R1 = D1 * (p1 - c1)\n",
    "    return R1\n",
    "\n",
    "\n",
    "def q5_simulate(initial_p1=None, initial_p2=None, max_rounds=100):\n",
    "    if initial_p1 is not None and initial_p2 is not None:\n",
    "        prices = np.array([initial_p1, initial_p2]).astype(float)\n",
    "    else:\n",
    "        possible_price = np.arange(0, 10.1, 0.1)\n",
    "        prices = np.random.choice(possible_price, size=2)\n",
    "\n",
    "    turn_player = 0  # Start with player 0\n",
    "    for i in range(max_rounds):\n",
    "        old_prices = prices.copy()\n",
    "        oppo_price = prices[1 - turn_player]\n",
    "        # Update turn player's price based on opponent's price\n",
    "        prices[turn_player] = best_response(oppo_price)\n",
    "        # Log the change\n",
    "        print(f'Round {i:03d} (firm {turn_player}\\'s move): {old_prices} -> {prices}')\n",
    "        # Check convergence\n",
    "        if (prices == old_prices).sum() == 2:\n",
    "            break\n",
    "        # Switch player\n",
    "        turn_player = 1 - turn_player\n",
    "\n",
    "    print()\n",
    "    print(f'Final price p_1  : {prices[0]:.1f}')\n",
    "    print(f'Final price p_2  : {prices[1]:.1f}')\n",
    "    print(f'Firm 1 reward R_1: {reward(prices[0], prices[1]):.4f}')\n",
    "    print(f'Firm 2 reward R_2: {reward(prices[1], prices[0]):.4f}')\n",
    "\n",
    "    return prices"
   ]
  },
  {
   "cell_type": "code",
   "execution_count": 56,
   "metadata": {},
   "outputs": [
    {
     "name": "stdout",
     "output_type": "stream",
     "text": [
      "Round 000 (firm 0's move): [2.  2.5] -> [2.4 2.5]\n",
      "Round 001 (firm 1's move): [2.4 2.5] -> [2.4 2.3]\n",
      "Round 002 (firm 0's move): [2.4 2.3] -> [2.2 2.3]\n",
      "Round 003 (firm 1's move): [2.2 2.3] -> [2.2 2.1]\n",
      "Round 004 (firm 0's move): [2.2 2.1] -> [2.  2.1]\n",
      "Round 005 (firm 1's move): [2.  2.1] -> [2.  1.9]\n",
      "Round 006 (firm 0's move): [2.  1.9] -> [1.8 1.9]\n",
      "Round 007 (firm 1's move): [1.8 1.9] -> [1.8 1.7]\n",
      "Round 008 (firm 0's move): [1.8 1.7] -> [1.6 1.7]\n",
      "Round 009 (firm 1's move): [1.6 1.7] -> [1.6 1.5]\n",
      "Round 010 (firm 0's move): [1.6 1.5] -> [1.4 1.5]\n",
      "Round 011 (firm 1's move): [1.4 1.5] -> [1.4 1.3]\n",
      "Round 012 (firm 0's move): [1.4 1.3] -> [1.2 1.3]\n",
      "Round 013 (firm 1's move): [1.2 1.3] -> [1.2 1.1]\n",
      "Round 014 (firm 0's move): [1.2 1.1] -> [1.1 1.1]\n",
      "Round 015 (firm 1's move): [1.1 1.1] -> [1.1 1.1]\n",
      "\n",
      "Final price p_1  : 1.1\n",
      "Final price p_2  : 1.1\n",
      "Firm 1 reward R_1: 0.1950\n",
      "Firm 2 reward R_2: 0.1950\n",
      "Nash Equilibrium: [1.1 1.1]\n"
     ]
    }
   ],
   "source": [
    "prices = q5_simulate(initial_p1=2, initial_p2=2.5)\n",
    "print(f'Nash Equilibrium: {prices}')"
   ]
  },
  {
   "cell_type": "code",
   "execution_count": 57,
   "metadata": {},
   "outputs": [
    {
     "name": "stdout",
     "output_type": "stream",
     "text": [
      "Round 000 (firm 0's move): [5.  0.2] -> [1.  0.2]\n",
      "Round 001 (firm 1's move): [1.  0.2] -> [1. 1.]\n",
      "Round 002 (firm 0's move): [1. 1.] -> [1. 1.]\n",
      "\n",
      "Final price p_1  : 1.0\n",
      "Final price p_2  : 1.0\n",
      "Firm 1 reward R_1: 0.0000\n",
      "Firm 2 reward R_2: 0.0000\n",
      "Nash Equilibrium: [1. 1.]\n"
     ]
    }
   ],
   "source": [
    "prices = q5_simulate(initial_p1=5, initial_p2=0.2)\n",
    "print(f'Nash Equilibrium: {prices}')"
   ]
  },
  {
   "cell_type": "markdown",
   "metadata": {
    "id": "Ot6dEdUY4YH5"
   },
   "source": [
    "<div style='border: 1px solid; padding: 5px;'>\n",
    "\n",
    "**(c)** Given the example shown in 5.a, derive the analytical best-response price for the $N$ firms case. You need to write down the whole procedures from the problem formulation to the final answer, similar with that in 5.a question. The price value does **not** need to have one decimal place. **[2 marks]**\n",
    "\n",
    "</div>"
   ]
  },
  {
   "cell_type": "markdown",
   "metadata": {
    "id": "VVi8grBp4YH5"
   },
   "source": [
    "**Problem Formulation of the $N$ firms Case:**\n",
    "\n",
    "Consider a market with $N$ firms ($N$ players) selling a homogeneous good. These firms all have the same cost structure and all produce any quantity at the same cost. The market price is determined by the lowest price offered by any of these $N$ firms.\n",
    "\n",
    "These firms are indexed by $i \\in \\{1, 2, ..., N\\}$. They have the same constant marginal cost $c \\geq 0$ and $p_i \\geq 0$ is the price level set by firm $i$. Denote $P = \\{p_1, p_2, ..., p_N\\}$ as the set of all price levels set.\n",
    "\n",
    "The demand function $D_i$ for firm $i$ given $P$ is derived as\n",
    "$$\n",
    "\tD_i(P) =\n",
    "\t\\begin{cases}\n",
    "\t\td(p_i) / n_\\text{min} & \\text{if } p_i \\leq p_j :\\forall j \\neq i \\\\\n",
    "\t\t0 & \\text{otherwise}\n",
    "\t\\end{cases}\n",
    "$$\n",
    "where $n_\\text{min}$ is the number of elements in $P$ that is equal to $\\min P$ and $d(p_i)$ is defined as\n",
    "$$\n",
    "\td(p_i) =\n",
    "\t\\begin{cases}\n",
    "\t\t5-p_i & \\text{if } p_i<5 \\\\\n",
    "\t\t0 & \\text{if } p_i\\geq 5 \\\\\n",
    "\t\\end{cases} \\quad .\n",
    "$$\n",
    "The reward function $R_i$ for firm $i$ is therefore computed by\n",
    "$$\n",
    "\tR_{i}= D_i(P) \\times (p_i - 1)\n",
    "$$\n",
    "where we have chosen $c = 1$ as in question part 5(a).\n",
    "\n",
    "**Analytical Best Response**:\n",
    "\n",
    "We would derive the analytical best response for firm 1 given the price levels $p_2$, $p_3$, ..., $p_N$ set by other firms.\n",
    "\n",
    "Denote $P' = \\{p_2, p_3, ..., p_N\\}$ and $n_\\text{min}$ as the number of elements in $P'$ that are equal to $\\min P'$.\n",
    "\n",
    "Similar to that in part 5(a), the reward of firm 1 can be constructed as\n",
    "$$\n",
    "R_1 =\n",
    "\\begin{cases}\n",
    "\t(5-p_1)(p_1-1)  &  \\text{if } p_1 < 5 \\text{ and } p_1 < \\min P' \\\\\n",
    "\t(5-p_1)(p_1-1)/n_\\text{min}  &  \\text{if } p_1 < 5 \\text{ and } p_1 = \\min P' \\\\\n",
    "\t0  &  \\text{otherwise}\n",
    "\\end{cases}\n",
    "$$\n",
    "Most part of the derivation follows from that in part 5(a) and we can simply obtain the following three cases on firm 1 best response $p_1^*$:\n",
    "- For $0 \\leq \\min P' < 1$,\n",
    "$$\n",
    "p_1^* = \\text{any value within } (\\min P', \\infty)\n",
    "$$\n",
    "- For $p_2 = 1$,\n",
    "$$\n",
    "p_1^* = \\text{any value within } [1, \\infty)\n",
    "$$\n",
    "- For $\\min P' > 3$,\n",
    "$$\n",
    "p_1^* = 3\n",
    "$$\n",
    "\n",
    "For the range of $1 \\leq \\min P' \\leq 3$, as there is no restriction on the prices to have only one decimal place, firm 1's best response is to set $p_1$ to a number that is smaller than $\\min P'$ but closest to $\\min P'$. It depends on the smallest unit supported by the price.\n",
    "\n",
    "Hence, the best response $p_1^*$ of firm 1 given $\\{p_2, p_3, ..., p_N\\}$ is summarised as\n",
    "$$\n",
    "\tp_1^* =\n",
    "\t\\begin{cases}\n",
    "\t\t\\text{any value within } (\\min P', \\infty) & \\text{if } 0 \\leq \\min P' < 1 \\\\\n",
    "        \\text{any value within } [1, \\infty) & \\text{if } \\min P' = 1 \\\\\n",
    "\t\t\\min P' - \\delta & \\text{if } 1 < \\min P' \\leq 3 \\\\\n",
    "\t\t3 & \\text{if } \\min P' > 3\n",
    "\t\\end{cases}\n",
    "\t\\quad ,\n",
    "$$\n",
    "where $P' = \\{p_2, p_3, ..., p_N\\}$ and $\\delta$ is the smallest unit of the price."
   ]
  },
  {
   "cell_type": "markdown",
   "metadata": {
    "id": "PGX7nS5r4YH6"
   },
   "source": [
    "<div style='border: 1px solid; padding: 5px;'>\n",
    "\n",
    "**(d)** Let us consider the situation when two firms sell a **different good**. In this case, the firm that offer lower price cannot capture all the market demand. We assume that the market demand $d$ is a function of $p_1,p_2$, which means that the market demand is influnced by two prices. Assume that:\n",
    "$$\n",
    "\\begin{align*}\n",
    "d_1(p_1,p_2) &= 10 - 2p_1 + 4p_2 \\\\\n",
    "d_2(p_1,p_2) &= 5 - 3p_2 + 2p_1\n",
    "\\end{align*}\n",
    "$$\n",
    "The reward function is defined as:\n",
    "$$\n",
    "R_{i}= d_{i}(p_i - c_i)\n",
    "$$\n",
    "Assume $c_1=c_2=1.0$, derive the analytical nash equilibrium prices and the final rewards for these two firms. **[2 marks]**\n",
    "\n",
    "</div>"
   ]
  },
  {
   "cell_type": "markdown",
   "metadata": {
    "id": "jz9iLv1w4YH6"
   },
   "source": [
    "Rewards of the firms are given by\n",
    "$$\n",
    "\\begin{cases}\n",
    "    R_1 = (10 - 2p_1 + 4p_2)(p_1 - 1) \\\\\n",
    "    R_2 = (5 - 3p_2 + 2p_1)(p_2 - 1)\n",
    "\\end{cases}\n",
    "\\Rightarrow\n",
    "\\begin{cases}\n",
    "    R_1 = -2p_1^2 + 12p_1 +4p_1p_2 - 4p_2 - 10 \\\\\n",
    "    R_2 = -3p_2^2 + 8p_2 + 2p_1p_2 - 2p_1 - 5\n",
    "\\end{cases}\n",
    "$$\n",
    "The optimal prices for each firm can be obtained by considering the following first order condition:\n",
    "$$\n",
    "\\begin{align}\n",
    "\t\\frac{\\partial}{\\partial p_1} R_1 = 0\n",
    "\t&\\Rightarrow -4p_1 + 12 + 4p_2 = 0\n",
    "\t\\\\\n",
    "\t\\frac{\\partial}{\\partial p_1} R_2 = 0\n",
    "\t& \\Rightarrow -6p_2 + 8 + 2p_1 = 0\n",
    "\\end{align}\n",
    "$$\n",
    "Solving the two equations yields the optimal prices $p_1^* = 6.5$ and $p_2^* = 3.5$, which are the Nash equilibrium prices. The corresponding final rewards are $R_1^* = 60.5$ and $R_2^* = 18.75$."
   ]
  }
 ],
 "metadata": {
  "colab": {
   "provenance": []
  },
  "kernelspec": {
   "display_name": "Python 3 (ipykernel)",
   "language": "python",
   "name": "python3"
  },
  "language_info": {
   "codemirror_mode": {
    "name": "ipython",
    "version": 3
   },
   "file_extension": ".py",
   "mimetype": "text/x-python",
   "name": "python",
   "nbconvert_exporter": "python",
   "pygments_lexer": "ipython3",
   "version": "3.11.9"
  }
 },
 "nbformat": 4,
 "nbformat_minor": 4
}
